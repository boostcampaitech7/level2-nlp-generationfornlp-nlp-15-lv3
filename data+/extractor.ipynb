{
 "cells": [
  {
   "cell_type": "code",
   "execution_count": null,
   "metadata": {},
   "outputs": [],
   "source": [
    "# Install required libraries\n",
    "%pip install pdfplumber"
   ]
  },
  {
   "cell_type": "code",
   "execution_count": null,
   "metadata": {},
   "outputs": [],
   "source": [
    "import os\n",
    "import pdfplumber\n",
    "from tqdm import tqdm\n",
    "\n",
    "def extract_text_from_pdf(pdf_path, double_column=False):\n",
    "    korean_text = \"\"\n",
    "    with pdfplumber.open(pdf_path) as pdf:\n",
    "        for page in pdf.pages:\n",
    "            if double_column:\n",
    "                # Extract text from the left column\n",
    "                left_bbox = (0, 0, page.width / 2, page.height)\n",
    "                left_text = page.within_bbox(left_bbox).extract_text()\n",
    "                \n",
    "                # Extract text from the right column\n",
    "                right_bbox = (page.width / 2, 0, page.width, page.height)\n",
    "                right_text = page.within_bbox(right_bbox).extract_text()\n",
    "                \n",
    "                # Combine the text from both columns\n",
    "                korean_text += (left_text if left_text else \"\") + \"\\n\" + (right_text if right_text else \"\") + \"\\n\"\n",
    "            else:\n",
    "                korean_text += page.extract_text() + \"\\n\"\n",
    "    return korean_text\n",
    "\n",
    "def process_pdfs(directory, double_column=False):\n",
    "    for filename in tqdm(os.listdir(directory)):\n",
    "        if filename.endswith('.pdf'):\n",
    "            filepath = os.path.join(directory, filename)\n",
    "            korean_text = extract_text_from_pdf(filepath, double_column)\n",
    "            \n",
    "            # Save the extracted text to a .txt file\n",
    "            txt_filename = os.path.splitext(filename)[0] + '.txt'\n",
    "            txt_filepath = os.path.join(directory, txt_filename)\n",
    "            with open(txt_filepath, 'w', encoding='utf-8') as txt_file:\n",
    "                txt_file.write(korean_text)\n",
    "\n",
    "# Process PDFs\n",
    "directory = \"\"\n",
    "process_pdfs(directory, double_column=True)\n"
   ]
  }
 ],
 "metadata": {
  "kernelspec": {
   "display_name": "Python 3",
   "language": "python",
   "name": "python3"
  },
  "language_info": {
   "codemirror_mode": {
    "name": "ipython",
    "version": 3
   },
   "file_extension": ".py",
   "mimetype": "text/x-python",
   "name": "python",
   "nbconvert_exporter": "python",
   "pygments_lexer": "ipython3",
   "version": "3.12.6"
  }
 },
 "nbformat": 4,
 "nbformat_minor": 2
}
